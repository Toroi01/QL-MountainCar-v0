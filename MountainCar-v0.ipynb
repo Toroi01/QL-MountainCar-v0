{
 "cells": [
  {
   "cell_type": "code",
   "execution_count": 1,
   "metadata": {},
   "outputs": [
    {
     "name": "stdout",
     "output_type": "stream",
     "text": [
      "well, it WASN'T defined after all!\n",
      "Episode: 0 avg: 0 min:-200.0 max:-200.0\n",
      "Episode: 500 avg: 500 min:-200.0 max:-200.0\n",
      "Episode: 1000 avg: 1000 min:-200.0 max:-200.0\n",
      "Episode: 1500 avg: 1500 min:-200.0 max:-200.0\n",
      "Episode: 2000 avg: 2000 min:-200.0 max:-200.0\n",
      "Episode: 2500 avg: 2500 min:-200.0 max:-200.0\n",
      "Episode: 3000 avg: 3000 min:-200.0 max:-200.0\n",
      "Episode: 3500 avg: 3500 min:-200.0 max:-200.0\n",
      "Episode: 4000 avg: 4000 min:-200.0 max:-200.0\n",
      "Episode: 4500 avg: 4500 min:-200.0 max:-200.0\n",
      "Episode: 5000 avg: 5000 min:-200.0 max:-200.0\n",
      "Episode: 5500 avg: 5500 min:-200.0 max:-169.0\n",
      "Episode: 6000 avg: 6000 min:-200.0 max:-157.0\n",
      "Episode: 6500 avg: 6500 min:-200.0 max:-164.0\n",
      "Episode: 7000 avg: 7000 min:-200.0 max:-154.0\n",
      "Episode: 7500 avg: 7500 min:-200.0 max:-146.0\n",
      "Episode: 8000 avg: 8000 min:-200.0 max:-133.0\n",
      "Episode: 8500 avg: 8500 min:-200.0 max:-150.0\n",
      "Episode: 9000 avg: 9000 min:-200.0 max:-151.0\n",
      "Episode: 9500 avg: 9500 min:-200.0 max:-143.0\n",
      "Episode: 10000 avg: 10000 min:-200.0 max:-147.0\n",
      "Episode: 10500 avg: 10500 min:-200.0 max:-116.0\n",
      "Episode: 11000 avg: 11000 min:-200.0 max:-123.0\n",
      "Episode: 11500 avg: 11500 min:-200.0 max:-140.0\n",
      "Episode: 12000 avg: 12000 min:-200.0 max:-114.0\n",
      "Episode: 12500 avg: 12500 min:-200.0 max:-111.0\n",
      "Episode: 13000 avg: 13000 min:-200.0 max:-130.0\n",
      "Episode: 13500 avg: 13500 min:-200.0 max:-115.0\n",
      "Episode: 14000 avg: 14000 min:-200.0 max:-110.0\n",
      "Episode: 14500 avg: 14500 min:-169.0 max:-110.0\n",
      "Episode: 15000 avg: 15000 min:-176.0 max:-113.0\n",
      "Episode: 15500 avg: 15500 min:-165.0 max:-112.0\n",
      "Episode: 16000 avg: 16000 min:-173.0 max:-111.0\n",
      "Episode: 16500 avg: 16500 min:-200.0 max:-93.0\n",
      "Episode: 17000 avg: 17000 min:-191.0 max:-92.0\n",
      "Episode: 17500 avg: 17500 min:-200.0 max:-93.0\n",
      "Episode: 18000 avg: 18000 min:-200.0 max:-107.0\n",
      "Episode: 18500 avg: 18500 min:-200.0 max:-114.0\n",
      "Episode: 19000 avg: 19000 min:-200.0 max:-129.0\n",
      "Episode: 19500 avg: 19500 min:-200.0 max:-131.0\n",
      "Episode: 20000 avg: 20000 min:-194.0 max:-132.0\n",
      "Episode: 20500 avg: 20500 min:-200.0 max:-130.0\n",
      "Episode: 21000 avg: 21000 min:-200.0 max:-131.0\n",
      "Episode: 21500 avg: 21500 min:-200.0 max:-118.0\n",
      "Episode: 22000 avg: 22000 min:-200.0 max:-131.0\n",
      "Episode: 22500 avg: 22500 min:-148.0 max:-131.0\n",
      "Episode: 23000 avg: 23000 min:-149.0 max:-131.0\n",
      "Episode: 23500 avg: 23500 min:-148.0 max:-130.0\n",
      "Episode: 24000 avg: 24000 min:-149.0 max:-130.0\n",
      "Episode: 24500 avg: 24500 min:-149.0 max:-130.0\n"
     ]
    },
    {
     "data": {
      "image/png": "[encoded data removed]",
      "text/plain": [
       "<Figure size 432x288 with 1 Axes>"
      ]
     },
     "metadata": {
      "needs_background": "light"
     },
     "output_type": "display_data"
    }
   ],
   "source": [
    "import gym\n",
    "import numpy as np\n",
    "import matplotlib.pyplot as plt\n",
    "\n",
    "try:\n",
    "    if env:\n",
    "        env.close()\n",
    "except NameError:\n",
    "    print(\"well, it WASN'T defined after all!\")\n",
    "\n",
    "LEARNING_RATE = 0.1\n",
    "DISCOUNT = 0.95\n",
    "EPISODES = 25000\n",
    "SHOW_EVERY = 500\n",
    "\n",
    "epsilon = 0.9\n",
    "START_EPSILON_DECAYING = 1\n",
    "END_EPSILON_DECAYING = EPISODES // 2\n",
    "epsilon_decay_value = epsilon/(END_EPSILON_DECAYING - START_EPSILON_DECAYING)\n",
    "\n",
    "env = gym.make(\"MountainCar-v0\") #https://github.com/openai/gym/wiki/MountainCar-v0\n",
    "env.reset()  \n",
    "discrete_os_size = [20] * len(env.observation_space.high)\n",
    "discrete_os_win_size = (env.observation_space.high - env.observation_space.low)/discrete_os_size\n",
    "\n",
    "q_table = np.random.uniform(low=-2,high=0, size=(discrete_os_size + [env.action_space.n]))\n",
    "\n",
    "ep_rewards = []\n",
    "aggr_ep_rewards = {'ep': [], 'avg':[], 'min':[], 'max':[]}\n",
    "\n",
    "def get_discrete_state(state):\n",
    "    discrete_state = (state - env.observation_space.low)/discrete_os_win_size\n",
    "    return tuple(discrete_state.astype(np.int))\n",
    "\n",
    "for episode in range(EPISODES):\n",
    "    episode_reward = 0\n",
    "    if episode%SHOW_EVERY == 0:\n",
    "        render = True\n",
    "    else:\n",
    "        render = False\n",
    "    \n",
    "        \n",
    "    discrete_state = get_discrete_state(env.reset())\n",
    "    done = False\n",
    "    while not done:\n",
    "        if np.random.random() > epsilon:\n",
    "            action = np.argmax(q_table[discrete_state])\n",
    "        else:\n",
    "            action = np.random.randint(0,env.action_space.n)\n",
    "\n",
    "        new_state, reward, done, _ = env.step(action)\n",
    "        episode_reward += reward\n",
    "        new_discrete_state = get_discrete_state(new_state)\n",
    "        if(render):\n",
    "            env.render()\n",
    "\n",
    "        if not done:\n",
    "            max_future_q = np.max(q_table[new_discrete_state])\n",
    "            current_q = q_table[discrete_state + (action, )]\n",
    "            new_q = (1-LEARNING_RATE)*current_q + LEARNING_RATE*(reward+DISCOUNT*max_future_q)\n",
    "            q_table[discrete_state + (action, )] = new_q\n",
    "        elif new_state[0] >= env.goal_position:\n",
    "            q_table[discrete_state + (action, )] = 0\n",
    "\n",
    "        discrete_state = new_discrete_state\n",
    "     \n",
    "    if END_EPSILON_DECAYING >= episode >= START_EPSILON_DECAYING:\n",
    "        epsilon -= epsilon_decay_value\n",
    "    \n",
    "    ep_rewards.append(episode_reward)\n",
    "    \n",
    "    if not episode % SHOW_EVERY:\n",
    "        average_reward = sum(ep_rewards[-SHOW_EVERY:])/len(ep_rewards[-SHOW_EVERY:])\n",
    "        aggr_ep_rewards['ep'].append(episode)\n",
    "        aggr_ep_rewards['avg'].append(average_reward)\n",
    "        aggr_ep_rewards['min'].append(min(ep_rewards[-SHOW_EVERY:]))\n",
    "        aggr_ep_rewards['max'].append(max(ep_rewards[-SHOW_EVERY:]))\n",
    "        \n",
    "        print(f\"Episode: {episode} avg: {episode} min:{min(ep_rewards[-SHOW_EVERY:])} max:{max(ep_rewards[-SHOW_EVERY:])}\")\n",
    "               \n",
    "env.close()    \n",
    "plt.plot(aggr_ep_rewards['ep'],aggr_ep_rewards['avg'], label=\"avg\")\n",
    "plt.plot(aggr_ep_rewards['ep'],aggr_ep_rewards['min'], label=\"min\")\n",
    "plt.plot(aggr_ep_rewards['ep'],aggr_ep_rewards['max'], label=\"max\")\n",
    "\n",
    "plt.legend(loc=4)\n",
    "plt.show()"
   ]
  },
  {
   "cell_type": "markdown",
   "metadata": {},
   "source": [
    "# Test"
   ]
  },
  {
   "cell_type": "code",
   "execution_count": 2,
   "metadata": {},
   "outputs": [],
   "source": [
    "env = gym.make(\"MountainCar-v0\") #https://github.com/openai/gym/wiki/MountainCar-v0\n",
    "env.reset() \n",
    "discrete_state = get_discrete_state(env.reset())\n",
    "done = False\n",
    "while not done:\n",
    "    action = np.argmax(q_table[discrete_state])\n",
    "    new_state, reward, done, _ = env.step(action)\n",
    "    new_discrete_state = get_discrete_state(new_state)\n",
    "    env.render()\n",
    "    discrete_state = new_discrete_state\n",
    "env.close()"
   ]
  },
  {
   "cell_type": "markdown",
   "metadata": {},
   "source": [
    "### Observation space"
   ]
  },
  {
   "cell_type": "markdown",
   "metadata": {},
   "source": [
    "| Num | Observation | Min | Max |\n",
    "| --- | --- | --- | --- |\n",
    "| 0 | position | -1.2 | 0.6 |\n",
    "| 1 | velocity | -0.07 | 0.07 |"
   ]
  },
  {
   "cell_type": "code",
   "execution_count": 3,
   "metadata": {},
   "outputs": [
    {
     "data": {
      "text/plain": [
       "Box(2,)"
      ]
     },
     "execution_count": 3,
     "metadata": {},
     "output_type": "execute_result"
    }
   ],
   "source": [
    "env.observation_space"
   ]
  },
  {
   "cell_type": "code",
   "execution_count": 4,
   "metadata": {},
   "outputs": [
    {
     "name": "stdout",
     "output_type": "stream",
     "text": [
      "[0.6  0.07]\n",
      "[-1.2  -0.07]\n"
     ]
    }
   ],
   "source": [
    "print(env.observation_space.high)\n",
    "print(env.observation_space.low)"
   ]
  },
  {
   "cell_type": "code",
   "execution_count": 5,
   "metadata": {},
   "outputs": [
    {
     "data": {
      "text/plain": [
       "array([0.44702658, 0.06402864], dtype=float32)"
      ]
     },
     "execution_count": 5,
     "metadata": {},
     "output_type": "execute_result"
    }
   ],
   "source": [
    "env.observation_space.sample()"
   ]
  },
  {
   "cell_type": "markdown",
   "metadata": {},
   "source": [
    "### Action space"
   ]
  },
  {
   "cell_type": "markdown",
   "metadata": {},
   "source": [
    "| Num | Action |\n",
    "| --- | --- |\n",
    "| 0 | push left |\n",
    "| 1 | no push |\n",
    "| 2 | push right |"
   ]
  },
  {
   "cell_type": "code",
   "execution_count": 6,
   "metadata": {},
   "outputs": [
    {
     "data": {
      "text/plain": [
       "Discrete(3)"
      ]
     },
     "execution_count": 6,
     "metadata": {},
     "output_type": "execute_result"
    }
   ],
   "source": [
    "env.action_space"
   ]
  },
  {
   "cell_type": "code",
   "execution_count": 7,
   "metadata": {},
   "outputs": [
    {
     "data": {
      "text/plain": [
       "2"
      ]
     },
     "execution_count": 7,
     "metadata": {},
     "output_type": "execute_result"
    }
   ],
   "source": [
    "env.action_space.sample()"
   ]
  },
  {
   "cell_type": "code",
   "execution_count": null,
   "metadata": {},
   "outputs": [],
   "source": []
  }
 ],
 "metadata": {
  "kernelspec": {
   "display_name": "QL",
   "language": "python",
   "name": "ql"
  },
  "language_info": {
   "codemirror_mode": {
    "name": "ipython",
    "version": 3
   },
   "file_extension": ".py",
   "mimetype": "text/x-python",
   "name": "python",
   "nbconvert_exporter": "python",
   "pygments_lexer": "ipython3",
   "version": "3.8.3"
  }
 },
 "nbformat": 4,
 "nbformat_minor": 4
}
